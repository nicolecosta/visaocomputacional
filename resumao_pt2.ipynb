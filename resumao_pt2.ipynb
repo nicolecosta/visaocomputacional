{
  "nbformat": 4,
  "nbformat_minor": 0,
  "metadata": {
    "colab": {
      "name": "resumao_pt2.ipynb",
      "provenance": [],
      "authorship_tag": "ABX9TyOVPI8BRQPs6sJlqu4pYZwa",
      "include_colab_link": true
    },
    "kernelspec": {
      "name": "python3",
      "display_name": "Python 3"
    },
    "language_info": {
      "name": "python"
    }
  },
  "cells": [
    {
      "cell_type": "markdown",
      "metadata": {
        "id": "view-in-github",
        "colab_type": "text"
      },
      "source": [
        "<a href=\"https://colab.research.google.com/github/nicolecosta/visaocomputacional/blob/main/resumao_pt2.ipynb\" target=\"_parent\"><img src=\"https://colab.research.google.com/assets/colab-badge.svg\" alt=\"Open In Colab\"/></a>"
      ]
    },
    {
      "cell_type": "markdown",
      "metadata": {
        "id": "ER9QV4P1wwWc"
      },
      "source": [
        "## **VISÃO COMPUTACIONAL - RESUMÃO PT2**\n",
        "\n",
        "**NICOLE SARVASI ALVES DA COSTA**"
      ]
    },
    {
      "cell_type": "markdown",
      "metadata": {
        "id": "MPwWuTwcw9Lt"
      },
      "source": [
        "#### <b>AULA 11- Morfologia Matemática</b>\n",
        "\n",
        "A Morfologia Matemática (MM) é um modelo teórico para as imagens digitais construídas em cima da teoria dos reticulados e da topologia. É o fundamento do processamento de imagem morfológico, que é baseado nos operadores de deslocamento-invariante (translação invariante) baseados principalmente na adição de Minkowski."
      ]
    },
    {
      "cell_type": "markdown",
      "metadata": {
        "id": "wRzDk2j9xrXO"
      },
      "source": [
        "#### <b>DILATAÇÃO BINÁRIA</b>\n",
        "\n",
        "A dilatação, também as vezes chamada de dilação, é uma transformação morfológica que combina dois conjuntos usando adição vetorial. \n",
        "\n",
        "Em OpenCV, a operação de dilatação pode ser realizada da seguinte forma:"
      ]
    },
    {
      "cell_type": "code",
      "metadata": {
        "colab": {
          "base_uri": "https://localhost:8080/",
          "height": 334
        },
        "id": "gjBnjBtgwpuP",
        "outputId": "c67402c5-849b-4d9e-e5d7-0effbb8805a9"
      },
      "source": [
        "import cv2 as cv\n",
        "from google.colab.patches import cv2_imshow\n",
        "import numpy as np\n",
        "img = cv.imread('j.png',0)\n",
        "cv2_imshow(img)\n",
        "print(\"\")\n",
        "kernel = np.ones((5,5),np.uint8)\n",
        "dilation = cv.dilate(img,kernel,iterations = 1) #quanto mais iterações , mais dilatada a imagem\n",
        "cv2_imshow(dilation)"
      ],
      "execution_count": 1,
      "outputs": [
        {
          "output_type": "display_data",
          "data": {
            "image/png": "[encoded data removed]",
            "text/plain": [
              "<PIL.Image.Image image mode=L size=112x150 at 0x7FF741E05750>"
            ]
          },
          "metadata": {}
        },
        {
          "output_type": "stream",
          "name": "stdout",
          "text": [
            "\n"
          ]
        },
        {
          "output_type": "display_data",
          "data": {
            "image/png": "[encoded data removed]",
            "text/plain": [
              "<PIL.Image.Image image mode=L size=112x150 at 0x7FF732877DD0>"
            ]
          },
          "metadata": {}
        }
      ]
    },
    {
      "cell_type": "markdown",
      "metadata": {
        "id": "rYiwE98WzJQM"
      },
      "source": [
        "FAZENDO CONTORNO COM A OPERAÇÃO DE DILATAÇÃO:"
      ]
    },
    {
      "cell_type": "code",
      "metadata": {
        "colab": {
          "base_uri": "https://localhost:8080/",
          "height": 334
        },
        "id": "kwlYKDQIzbEO",
        "outputId": "18f0acd9-3e39-419e-ebed-225d742be17d"
      },
      "source": [
        "import cv2 as cv\n",
        "import numpy as np\n",
        "img = cv.imread('j.png',0)\n",
        "cv2_imshow(img)\n",
        "print(\"\")\n",
        "kernel = np.ones((3,3),np.uint8)\n",
        "dilation = cv.dilate(img,kernel,iterations = 4)\n",
        "cont=dilation-img\n",
        "cv2_imshow(cont)"
      ],
      "execution_count": 2,
      "outputs": [
        {
          "output_type": "display_data",
          "data": {
            "image/png": "[encoded data removed]",
            "text/plain": [
              "<PIL.Image.Image image mode=L size=112x150 at 0x7FF73287EE50>"
            ]
          },
          "metadata": {}
        },
        {
          "output_type": "stream",
          "name": "stdout",
          "text": [
            "\n"
          ]
        },
        {
          "output_type": "display_data",
          "data": {
            "image/png": "[encoded data removed]",
            "text/plain": [
              "<PIL.Image.Image image mode=L size=112x150 at 0x7FF73287EE50>"
            ]
          },
          "metadata": {}
        }
      ]
    },
    {
      "cell_type": "markdown",
      "metadata": {
        "id": "63r53mMYzOq4"
      },
      "source": [
        "#### <b>EROSÃO BINÁRIA</b>\n",
        "\n",
        "A erosão basicamente encolhe uma imagem e pode ser vista como uma transformação morfológica que combina dois conjuntos de vetores de subtração.\n",
        "\n",
        "Em OpenCV, a operação de dilatação pode ser realizada da seguinte forma:"
      ]
    },
    {
      "cell_type": "code",
      "metadata": {
        "colab": {
          "base_uri": "https://localhost:8080/",
          "height": 334
        },
        "id": "FbFIhSnW0hKk",
        "outputId": "084c5516-86e7-485c-f4c7-091c228b8bcb"
      },
      "source": [
        "import cv2 as cv\n",
        "import numpy as np\n",
        "img = cv.imread('j.png',0)\n",
        "cv2_imshow(img)\n",
        "print(\"\")\n",
        "kernel = np.ones((3,3),np.uint8)\n",
        "erosion = cv.erode(img,kernel,iterations = 1)\n",
        "cv2_imshow(erosion)"
      ],
      "execution_count": 3,
      "outputs": [
        {
          "output_type": "display_data",
          "data": {
            "image/png": "[encoded data removed]",
            "text/plain": [
              "<PIL.Image.Image image mode=L size=112x150 at 0x7FF742409310>"
            ]
          },
          "metadata": {}
        },
        {
          "output_type": "stream",
          "name": "stdout",
          "text": [
            "\n"
          ]
        },
        {
          "output_type": "display_data",
          "data": {
            "image/png": "[encoded data removed]",
            "text/plain": [
              "<PIL.Image.Image image mode=L size=112x150 at 0x7FF742409310>"
            ]
          },
          "metadata": {}
        }
      ]
    },
    {
      "cell_type": "markdown",
      "metadata": {
        "id": "6PRwnYT_0qaH"
      },
      "source": [
        "FAZENDO CONTORNO COM A OPERAÇÃO DE EROSÃO:"
      ]
    },
    {
      "cell_type": "code",
      "metadata": {
        "colab": {
          "base_uri": "https://localhost:8080/",
          "height": 334
        },
        "id": "SMu6qHWG0uk9",
        "outputId": "719917a5-3e68-4931-effa-073a58660a9b"
      },
      "source": [
        "img = cv.imread('j.png',0)\n",
        "cv2_imshow(img)\n",
        "print(\"\")\n",
        "kernel = np.ones((3,3),np.uint8)\n",
        "erosion = cv.erode(img,kernel,iterations = 1)\n",
        "cont=img-erosion\n",
        "cv2_imshow(cont)"
      ],
      "execution_count": 4,
      "outputs": [
        {
          "output_type": "display_data",
          "data": {
            "image/png": "[encoded data removed]",
            "text/plain": [
              "<PIL.Image.Image image mode=L size=112x150 at 0x7FF73F5726D0>"
            ]
          },
          "metadata": {}
        },
        {
          "output_type": "stream",
          "name": "stdout",
          "text": [
            "\n"
          ]
        },
        {
          "output_type": "display_data",
          "data": {
            "image/png": "[encoded data removed]",
            "text/plain": [
              "<PIL.Image.Image image mode=L size=112x150 at 0x7FF73F572650>"
            ]
          },
          "metadata": {}
        }
      ]
    },
    {
      "cell_type": "code",
      "metadata": {
        "colab": {
          "base_uri": "https://localhost:8080/",
          "height": 334
        },
        "id": "o9YS53f005Rl",
        "outputId": "21e81f4b-7a36-450e-b14e-78a4ca922df3"
      },
      "source": [
        "img = cv.imread('j.png',0)\n",
        "cv2_imshow(img)\n",
        "print(\"\")\n",
        "kernel = np.ones((3,3),np.uint8)\n",
        "dilation = cv.dilate(img,kernel,iterations = 3)\n",
        "dilationm = cv.dilate(img,kernel,iterations = 2)\n",
        "dilation=dilation-dilationm\n",
        "erosion = cv.erode(img,kernel,iterations = 1)\n",
        "dupcont=dilation+(img-erosion)\n",
        "cv2_imshow(dupcont)"
      ],
      "execution_count": 5,
      "outputs": [
        {
          "output_type": "display_data",
          "data": {
            "image/png": "[encoded data removed]",
            "text/plain": [
              "<PIL.Image.Image image mode=L size=112x150 at 0x7FF7328A0E50>"
            ]
          },
          "metadata": {}
        },
        {
          "output_type": "stream",
          "name": "stdout",
          "text": [
            "\n"
          ]
        },
        {
          "output_type": "display_data",
          "data": {
            "image/png": "[encoded data removed]",
            "text/plain": [
              "<PIL.Image.Image image mode=L size=112x150 at 0x7FF7328A0810>"
            ]
          },
          "metadata": {}
        }
      ]
    },
    {
      "cell_type": "markdown",
      "metadata": {
        "id": "yB1C7Ygj1QB-"
      },
      "source": [
        "A igualdade abaixo é não é válida:\n",
        "\n",
        "(A ⊕ B)θ B = A"
      ]
    },
    {
      "cell_type": "markdown",
      "metadata": {
        "id": "btz_DE7M4ePl"
      },
      "source": [
        "Combinando as operações de dilatação e erosão para obter um contorno mais grossoda imagem binária:"
      ]
    },
    {
      "cell_type": "code",
      "metadata": {
        "colab": {
          "base_uri": "https://localhost:8080/",
          "height": 334
        },
        "id": "hyb0t2WA4Z4_",
        "outputId": "3e7604c3-0817-4a67-84b5-f3eed3708b39"
      },
      "source": [
        "import cv2 as cv\n",
        "import numpy as np\n",
        "img = cv.imread('j.png',0)\n",
        "cv2_imshow(img)\n",
        "print(\"\")\n",
        "\n",
        "\n",
        "kernel = np.ones((3,3),np.uint8)\n",
        "dilation = cv.dilate(img,kernel,iterations = 3)\n",
        "erosion = cv.erode(img,kernel,iterations = 1)\n",
        "dupcont=(dilation-img)+(img-erosion)\n",
        "cv2_imshow(dupcont)"
      ],
      "execution_count": 6,
      "outputs": [
        {
          "output_type": "display_data",
          "data": {
            "image/png": "[encoded data removed]",
            "text/plain": [
              "<PIL.Image.Image image mode=L size=112x150 at 0x7FF7328A0ED0>"
            ]
          },
          "metadata": {}
        },
        {
          "output_type": "stream",
          "name": "stdout",
          "text": [
            "\n"
          ]
        },
        {
          "output_type": "display_data",
          "data": {
            "image/png": "[encoded data removed]",
            "text/plain": [
              "<PIL.Image.Image image mode=L size=112x150 at 0x7FF741E72710>"
            ]
          },
          "metadata": {}
        }
      ]
    },
    {
      "cell_type": "markdown",
      "metadata": {
        "id": "LUd7Oh_H4oIg"
      },
      "source": [
        "#### <b>ABERTURA BINÁRIA</b>\n",
        "\n",
        "A abertura em geral suaviza o contorno de uma imagem, quebra estreitos e elimina proeminências delgadas, a operação de abertura é usada também para remover ruídos da imagem. \n",
        "\n",
        "Em OpenCV, a operação de abertura pode ser realizada de seguinte forma:"
      ]
    },
    {
      "cell_type": "code",
      "metadata": {
        "colab": {
          "base_uri": "https://localhost:8080/",
          "height": 334
        },
        "id": "DnJqOrPt4npJ",
        "outputId": "add71db4-88e9-4446-95e2-e157255efd14"
      },
      "source": [
        "import cv2 as cv\n",
        "import numpy as np\n",
        "img = cv.imread('j.png',0)\n",
        "cv2_imshow(img)\n",
        "print(\"\")\n",
        "kernel = np.ones((5,5),np.uint8)\n",
        "opening = cv.morphologyEx(img, cv.MORPH_OPEN, kernel)\n",
        "cv2_imshow(opening)\n",
        "\n",
        "#aplicar varias vezes melhora o resultado"
      ],
      "execution_count": 7,
      "outputs": [
        {
          "output_type": "display_data",
          "data": {
            "image/png": "[encoded data removed]",
            "text/plain": [
              "<PIL.Image.Image image mode=L size=112x150 at 0x7FF732829210>"
            ]
          },
          "metadata": {}
        },
        {
          "output_type": "stream",
          "name": "stdout",
          "text": [
            "\n"
          ]
        },
        {
          "output_type": "display_data",
          "data": {
            "image/png": "[encoded data removed]",
            "text/plain": [
              "<PIL.Image.Image image mode=L size=112x150 at 0x7FF7328297D0>"
            ]
          },
          "metadata": {}
        }
      ]
    },
    {
      "cell_type": "markdown",
      "metadata": {
        "id": "qkav248_9u-8"
      },
      "source": [
        "#### <b>FECHAMENTO BINÁRIO</b>\n",
        "\n",
        "O fechamento funde pequenas quebras e alarga golfos estreitos elimina pequenos orifícios. Se uma abertura cria pequenos vazios na imagem, um fechamento irá preencher ou fechar os vazios, estas operações podem remover muito dos pixels brancos com ruídos, ou seja, basicamente ele é igual "
      ]
    }
  ]
}